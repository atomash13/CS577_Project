{
  "nbformat": 4,
  "nbformat_minor": 0,
  "metadata": {
    "colab": {
      "provenance": [],
      "gpuType": "T4"
    },
    "kernelspec": {
      "name": "python3",
      "display_name": "Python 3"
    },
    "language_info": {
      "name": "python"
    },
    "accelerator": "GPU"
  },
  "cells": [
    {
      "cell_type": "code",
      "execution_count": null,
      "metadata": {
        "id": "9-2Hax8ycdPh"
      },
      "outputs": [],
      "source": [
        "import tensorflow as tf\n",
        "from tensorflow.keras.models import Model\n",
        "from tensorflow.keras.layers import Dense, GlobalAveragePooling2D\n",
        "from tensorflow.keras.applications import MobileNetV2, Xception\n",
        "from tensorflow.keras.optimizers import Adam\n",
        "from tensorflow.keras.preprocessing.image import ImageDataGenerator\n",
        "from keras.applications import VGG16, ResNet50\n",
        "from keras.callbacks import EarlyStopping, LearningRateScheduler\n",
        "from keras.layers import Dropout\n",
        "import matplotlib.pyplot as plt\n"
      ]
    },
    {
      "cell_type": "code",
      "source": [
        "from google.colab import drive\n",
        "drive.mount('/content/gdrive')"
      ],
      "metadata": {
        "colab": {
          "base_uri": "https://localhost:8080/"
        },
        "id": "CGGs8aSDciPU",
        "outputId": "4854e7e2-3042-403c-c13e-07c1cc498ce0"
      },
      "execution_count": null,
      "outputs": [
        {
          "output_type": "stream",
          "name": "stdout",
          "text": [
            "Mounted at /content/gdrive\n"
          ]
        }
      ]
    },
    {
      "cell_type": "code",
      "source": [
        "# Define paths to your train, test, and validation data\n",
        "train_data_dir = \"/content/gdrive/MyDrive/data/train\"\n",
        "test_data_dir = \"/content/gdrive/MyDrive/data/test\"\n",
        "val_data_dir = \"/content/gdrive/MyDrive/data/val\"\n",
        "\n",
        "# Use ImageDataGenerator for data augmentation and preprocessing\n",
        "train_datagen = ImageDataGenerator(\n",
        "    rescale=1./255,\n",
        "    shear_range=0.2,\n",
        "    zoom_range=0.2,\n",
        "    horizontal_flip=True\n",
        ")\n",
        "\n",
        "test_datagen = ImageDataGenerator(rescale=1./255)\n",
        "val_datagen = ImageDataGenerator(rescale=1./255)\n",
        "\n",
        "train_generator = train_datagen.flow_from_directory(\n",
        "    train_data_dir,\n",
        "    target_size=(300, 300),\n",
        "    batch_size=32,\n",
        "    class_mode='binary',  # Use 'binary' for two classes: 'fake' and 'real'\n",
        "    classes=['fake', 'real']  # Specify the class labels\n",
        ")\n",
        "\n",
        "test_generator = test_datagen.flow_from_directory(\n",
        "    test_data_dir,\n",
        "    target_size=(300, 300),\n",
        "    batch_size=32,\n",
        "    class_mode='binary',\n",
        "    classes=['fake', 'real']\n",
        ")\n",
        "\n",
        "val_generator = val_datagen.flow_from_directory(\n",
        "    val_data_dir,\n",
        "    target_size=(300, 300),\n",
        "    batch_size=32,\n",
        "    class_mode='binary',\n",
        "    classes=['fake', 'real']\n",
        ")\n"
      ],
      "metadata": {
        "colab": {
          "base_uri": "https://localhost:8080/"
        },
        "id": "rghIgC2Xc-U4",
        "outputId": "3c5b215d-5b8c-4ae2-fa0f-9e3a5f89ddc8"
      },
      "execution_count": null,
      "outputs": [
        {
          "output_type": "stream",
          "name": "stdout",
          "text": [
            "Found 11553 images belonging to 2 classes.\n",
            "Found 3127 images belonging to 2 classes.\n",
            "Found 1257 images belonging to 2 classes.\n"
          ]
        }
      ]
    },
    {
      "cell_type": "code",
      "source": [
        "\n",
        "\n",
        "# Load pre-trained Xception model without top classification layers\n",
        "base_model = Xception(weights='imagenet', include_top=False)\n",
        "\n",
        "# Add your custom classification layers\n",
        "x = base_model.output\n",
        "x = GlobalAveragePooling2D()(x)\n",
        "# x = Dropout(0.5)(x)  # Dropout layer with dropout rate of 0.5\n",
        "predictions = Dense(1, activation='sigmoid')(x)\n",
        "\n",
        "# Create the transfer learning model\n",
        "model = Model(inputs=base_model.input, outputs=predictions)\n",
        "\n",
        "# Freeze the layers of the base model\n",
        "for layer in base_model.layers:\n",
        "    layer.trainable = True\n",
        "\n",
        "\n"
      ],
      "metadata": {
        "id": "dU273TcTimFD",
        "colab": {
          "base_uri": "https://localhost:8080/"
        },
        "outputId": "3bbcc0d9-3355-4ecd-c1bb-59d8f942a383"
      },
      "execution_count": null,
      "outputs": [
        {
          "output_type": "stream",
          "name": "stdout",
          "text": [
            "Downloading data from https://storage.googleapis.com/tensorflow/keras-applications/xception/xception_weights_tf_dim_ordering_tf_kernels_notop.h5\n",
            "83683744/83683744 [==============================] - 2s 0us/step\n"
          ]
        }
      ]
    },
    {
      "cell_type": "code",
      "source": [
        "\n",
        "# Compile the model\n",
        "model.compile(optimizer=Adam(lr=0.0001), loss='binary_crossentropy', metrics=['accuracy'])\n",
        "\n",
        "\n",
        "# Implement early stopping to monitor validation loss and stop training when it stops decreasing\n",
        "early_stopping = EarlyStopping(monitor='val_loss', patience=3, restore_best_weights=True)\n",
        "\n",
        "# Define a learning rate schedule to gradually reduce the learning rate during training\n",
        "def lr_schedule(epoch):\n",
        "    lr = 0.001\n",
        "    if epoch > 5:\n",
        "        lr *= 0.1\n",
        "    return lr\n",
        "\n",
        "train_steps_per_epoch = 50  # Process 50 batches per epoch for training\n",
        "val_steps_per_epoch = 20    # Process 20 batches per epoch for validation\n",
        "\n",
        "# Modify model training to include both early stopping and learning rate scheduling and store the training history\n",
        "history = model.fit_generator(\n",
        "    train_generator,\n",
        "    steps_per_epoch=train_steps_per_epoch,\n",
        "    epochs=50,\n",
        "    validation_data=val_generator,\n",
        "    validation_steps=val_steps_per_epoch,\n",
        "    callbacks=[early_stopping, LearningRateScheduler(lr_schedule)]\n",
        ")"
      ],
      "metadata": {
        "colab": {
          "base_uri": "https://localhost:8080/"
        },
        "id": "qql_DdU7isTq",
        "outputId": "0381f74f-b506-4641-aff9-3a7617ceb156"
      },
      "execution_count": null,
      "outputs": [
        {
          "output_type": "stream",
          "name": "stderr",
          "text": [
            "WARNING:absl:`lr` is deprecated in Keras optimizer, please use `learning_rate` or use the legacy optimizer, e.g.,tf.keras.optimizers.legacy.Adam.\n",
            "<ipython-input-7-57f4207bca7f>:19: UserWarning: `Model.fit_generator` is deprecated and will be removed in a future version. Please use `Model.fit`, which supports generators.\n",
            "  history = model.fit_generator(\n"
          ]
        },
        {
          "output_type": "stream",
          "name": "stdout",
          "text": [
            "Epoch 1/50\n",
            "50/50 [==============================] - 438s 8s/step - loss: 0.1114 - accuracy: 0.9563 - val_loss: 28.4485 - val_accuracy: 0.6391 - lr: 0.0010\n",
            "Epoch 2/50\n",
            "50/50 [==============================] - 333s 7s/step - loss: 0.0406 - accuracy: 0.9844 - val_loss: 0.1922 - val_accuracy: 0.9719 - lr: 0.0010\n",
            "Epoch 3/50\n",
            "50/50 [==============================] - 255s 5s/step - loss: 0.0211 - accuracy: 0.9931 - val_loss: 0.0062 - val_accuracy: 0.9969 - lr: 0.0010\n",
            "Epoch 4/50\n",
            "50/50 [==============================] - 223s 4s/step - loss: 0.0101 - accuracy: 0.9956 - val_loss: 5.5633 - val_accuracy: 0.5234 - lr: 0.0010\n",
            "Epoch 5/50\n",
            "50/50 [==============================] - 199s 4s/step - loss: 0.0124 - accuracy: 0.9956 - val_loss: 0.0013 - val_accuracy: 1.0000 - lr: 0.0010\n",
            "Epoch 6/50\n",
            "50/50 [==============================] - 148s 3s/step - loss: 0.0088 - accuracy: 0.9981 - val_loss: 0.0627 - val_accuracy: 0.9937 - lr: 0.0010\n",
            "Epoch 7/50\n",
            "50/50 [==============================] - 142s 3s/step - loss: 0.0038 - accuracy: 0.9981 - val_loss: 0.0151 - val_accuracy: 1.0000 - lr: 1.0000e-04\n",
            "Epoch 8/50\n",
            "50/50 [==============================] - 128s 3s/step - loss: 0.0015 - accuracy: 0.9994 - val_loss: 0.0027 - val_accuracy: 1.0000 - lr: 1.0000e-04\n"
          ]
        }
      ]
    },
    {
      "cell_type": "code",
      "source": [
        "# Evaluate the model on the test data\n",
        "test_loss, test_accuracy = model.evaluate_generator(test_generator, steps=50)\n",
        "print(\"Test Accuracy: {:.2f}%\".format(test_accuracy * 100))\n"
      ],
      "metadata": {
        "colab": {
          "base_uri": "https://localhost:8080/"
        },
        "id": "tIXaSlhpiwvW",
        "outputId": "7d545087-964f-4359-f490-0c9a530b8c94"
      },
      "execution_count": null,
      "outputs": [
        {
          "output_type": "stream",
          "name": "stderr",
          "text": [
            "<ipython-input-13-05b2c1c47b18>:2: UserWarning: `Model.evaluate_generator` is deprecated and will be removed in a future version. Please use `Model.evaluate`, which supports generators.\n",
            "  test_loss, test_accuracy = model.evaluate_generator(test_generator, steps=50)\n"
          ]
        },
        {
          "output_type": "stream",
          "name": "stdout",
          "text": [
            "Test Accuracy: 99.94%\n"
          ]
        }
      ]
    },
    {
      "cell_type": "code",
      "source": [
        "import matplotlib.pyplot as plt\n",
        "\n",
        "# Plot training & validation accuracy values\n",
        "plt.plot(history.history['accuracy'])\n",
        "plt.plot(history.history['val_accuracy'])\n",
        "plt.title('Model accuracy')\n",
        "plt.xlabel('Epoch')\n",
        "plt.ylabel('Accuracy')\n",
        "plt.legend(['Train', 'Validation'], loc='upper left')\n",
        "\n",
        "fig1 = plt.gcf()\n",
        "plt.show()\n",
        "plt.draw()\n",
        "fig1.savefig('/content/gdrive/MyDrive/models_deep_learning/Xception_3_accuracy.png')  # Save as PNG file\n"
      ],
      "metadata": {
        "colab": {
          "base_uri": "https://localhost:8080/",
          "height": 490
        },
        "id": "bbBVMXgzi0lI",
        "outputId": "0f4760b3-417d-4618-feed-1a8a9e6f437f"
      },
      "execution_count": null,
      "outputs": [
        {
          "output_type": "display_data",
          "data": {
            "text/plain": [
              "<Figure size 640x480 with 1 Axes>"
            ],
            "image/png": "[encoded data removed]"
          },
          "metadata": {}
        },
        {
          "output_type": "display_data",
          "data": {
            "text/plain": [
              "<Figure size 640x480 with 0 Axes>"
            ]
          },
          "metadata": {}
        }
      ]
    },
    {
      "cell_type": "code",
      "source": [
        "# Plot training & validation accuracy values\n",
        "plt.plot(history.history['loss'])\n",
        "plt.plot(history.history['val_loss'])\n",
        "plt.title('Model loss')\n",
        "plt.xlabel('Epoch')\n",
        "plt.ylabel('Accuracy')\n",
        "plt.legend(['Train', 'Validation'], loc='upper left')\n",
        "\n",
        "fig2 = plt.gcf()\n",
        "plt.show()\n",
        "plt.draw()\n",
        "fig2.savefig('/content/gdrive/MyDrive/models_deep_learning/Xception_3_loss.png')  # Save as PNG file"
      ],
      "metadata": {
        "colab": {
          "base_uri": "https://localhost:8080/",
          "height": 490
        },
        "id": "HrUOKo8UIFaw",
        "outputId": "fc833b1a-a407-483e-aea2-bed952300322"
      },
      "execution_count": null,
      "outputs": [
        {
          "output_type": "display_data",
          "data": {
            "text/plain": [
              "<Figure size 640x480 with 1 Axes>"
            ],
            "image/png": "[encoded data removed]"
          },
          "metadata": {}
        },
        {
          "output_type": "display_data",
          "data": {
            "text/plain": [
              "<Figure size 640x480 with 0 Axes>"
            ]
          },
          "metadata": {}
        }
      ]
    },
    {
      "cell_type": "code",
      "source": [
        "import pickle\n",
        "\n",
        "model.save('/content/gdrive/MyDrive/models_deep_learning/xception_3.h5')\n",
        "\n",
        "# Save the training history using pickle\n",
        "with open('/content/gdrive/MyDrive/models_deep_learning/xception_3_history.pkl', 'wb') as f:\n",
        "    pickle.dump(history.history, f)\n",
        "\n",
        "\n",
        "\n",
        "# Your evaluation results\n",
        "evaluation_results = {\n",
        "    'accuracy': test_accuracy,\n",
        "    'loss': test_loss}\n",
        "\n",
        "# Save evaluation results using pickle\n",
        "with open('/content/gdrive/MyDrive/models_deep_learning/evaluation_xception_3_results.pkl', 'wb') as f:\n",
        "    pickle.dump(evaluation_results, f)\n",
        "\n"
      ],
      "metadata": {
        "colab": {
          "base_uri": "https://localhost:8080/"
        },
        "id": "dRm-B7ESQGkk",
        "outputId": "95d322b4-41fb-4b1f-9cd9-dc6ef8525a26"
      },
      "execution_count": null,
      "outputs": [
        {
          "output_type": "stream",
          "name": "stderr",
          "text": [
            "/usr/local/lib/python3.10/dist-packages/keras/src/engine/training.py:3079: UserWarning: You are saving your model as an HDF5 file via `model.save()`. This file format is considered legacy. We recommend using instead the native Keras format, e.g. `model.save('my_model.keras')`.\n",
            "  saving_api.save_model(\n"
          ]
        }
      ]
    },
    {
      "cell_type": "code",
      "source": [],
      "metadata": {
        "id": "0xnPqPIWNsas"
      },
      "execution_count": null,
      "outputs": []
    }
  ]
}