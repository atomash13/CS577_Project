{
  "nbformat": 4,
  "nbformat_minor": 0,
  "metadata": {
    "colab": {
      "provenance": [],
      "gpuType": "T4"
    },
    "kernelspec": {
      "name": "python3",
      "display_name": "Python 3"
    },
    "language_info": {
      "name": "python"
    },
    "accelerator": "GPU"
  },
  "cells": [
    {
      "cell_type": "code",
      "execution_count": 2,
      "metadata": {
        "id": "9-2Hax8ycdPh"
      },
      "outputs": [],
      "source": [
        "import tensorflow as tf\n",
        "from tensorflow.keras.models import Model\n",
        "from tensorflow.keras.layers import Dense, GlobalAveragePooling2D\n",
        "from tensorflow.keras.applications import MobileNetV2\n",
        "from tensorflow.keras.optimizers import Adam\n",
        "from tensorflow.keras.preprocessing.image import ImageDataGenerator\n",
        "from keras.applications import VGG16, ResNet50\n",
        "from keras.callbacks import EarlyStopping, LearningRateScheduler\n",
        "from keras.layers import Dropout\n"
      ]
    },
    {
      "cell_type": "code",
      "source": [
        "from google.colab import drive\n",
        "drive.mount('/content/gdrive')"
      ],
      "metadata": {
        "colab": {
          "base_uri": "https://localhost:8080/"
        },
        "id": "CGGs8aSDciPU",
        "outputId": "c5d53919-8363-454d-b5fb-99513e27a882"
      },
      "execution_count": 3,
      "outputs": [
        {
          "output_type": "stream",
          "name": "stdout",
          "text": [
            "Mounted at /content/gdrive\n"
          ]
        }
      ]
    },
    {
      "cell_type": "code",
      "source": [
        "# Define paths to your train, test, and validation data\n",
        "train_data_dir = \"/content/gdrive/MyDrive/data/train\"\n",
        "test_data_dir = \"/content/gdrive/MyDrive/data/test\"\n",
        "val_data_dir = \"/content/gdrive/MyDrive/data/val\"\n",
        "\n",
        "# Use ImageDataGenerator for data augmentation and preprocessing\n",
        "train_datagen = ImageDataGenerator(\n",
        "    rescale=1./255,\n",
        "    shear_range=0.2,\n",
        "    zoom_range=0.2,\n",
        "    horizontal_flip=True\n",
        ")\n",
        "\n",
        "test_datagen = ImageDataGenerator(rescale=1./255)\n",
        "val_datagen = ImageDataGenerator(rescale=1./255)\n",
        "\n",
        "train_generator = train_datagen.flow_from_directory(\n",
        "    train_data_dir,\n",
        "    target_size=(300, 300),\n",
        "    batch_size=32,\n",
        "    class_mode='binary',  # Use 'binary' for two classes: 'fake' and 'real'\n",
        "    classes=['fake', 'real']  # Specify the class labels\n",
        ")\n",
        "\n",
        "test_generator = test_datagen.flow_from_directory(\n",
        "    test_data_dir,\n",
        "    target_size=(300, 300),\n",
        "    batch_size=32,\n",
        "    class_mode='binary',\n",
        "    classes=['fake', 'real']\n",
        ")\n",
        "\n",
        "val_generator = val_datagen.flow_from_directory(\n",
        "    val_data_dir,\n",
        "    target_size=(300, 300),\n",
        "    batch_size=32,\n",
        "    class_mode='binary',\n",
        "    classes=['fake', 'real']\n",
        ")\n"
      ],
      "metadata": {
        "colab": {
          "base_uri": "https://localhost:8080/"
        },
        "id": "rghIgC2Xc-U4",
        "outputId": "95d7bde5-c70d-4510-aba2-b93e8ef26891"
      },
      "execution_count": 4,
      "outputs": [
        {
          "output_type": "stream",
          "name": "stdout",
          "text": [
            "Found 11553 images belonging to 2 classes.\n",
            "Found 3127 images belonging to 2 classes.\n",
            "Found 1257 images belonging to 2 classes.\n"
          ]
        }
      ]
    },
    {
      "cell_type": "code",
      "source": [
        "\n",
        "\n",
        "# Load pre-trained MobileNetV2 model without top classification layers\n",
        "base_model = MobileNetV2(weights='imagenet', include_top=False)\n",
        "\n",
        "# Add your custom classification layers\n",
        "x = base_model.output\n",
        "x = GlobalAveragePooling2D()(x)\n",
        "x = Dropout(0.5)(x)  # Dropout layer with dropout rate of 0.5\n",
        "predictions = Dense(1, activation='sigmoid')(x)\n",
        "\n",
        "\n",
        "\n",
        "# Create the transfer learning model\n",
        "model = Model(inputs=base_model.input, outputs=predictions)\n",
        "\n",
        "# Freeze the layers of the base model\n",
        "for layer in base_model.layers:\n",
        "    layer.trainable = False\n"
      ],
      "metadata": {
        "colab": {
          "base_uri": "https://localhost:8080/"
        },
        "id": "dU273TcTimFD",
        "outputId": "aa3b6d3e-ac8e-4403-ee83-d83a5cb93795"
      },
      "execution_count": 10,
      "outputs": [
        {
          "output_type": "stream",
          "name": "stderr",
          "text": [
            "WARNING:tensorflow:`input_shape` is undefined or non-square, or `rows` is not in [96, 128, 160, 192, 224]. Weights for input shape (224, 224) will be loaded as the default.\n"
          ]
        },
        {
          "output_type": "stream",
          "name": "stdout",
          "text": [
            "Downloading data from https://storage.googleapis.com/tensorflow/keras-applications/mobilenet_v2/mobilenet_v2_weights_tf_dim_ordering_tf_kernels_1.0_224_no_top.h5\n",
            "9406464/9406464 [==============================] - 1s 0us/step\n"
          ]
        }
      ]
    },
    {
      "cell_type": "code",
      "source": [
        "\n",
        "# Compile the model\n",
        "model.compile(optimizer=Adam(lr=0.0001), loss='binary_crossentropy', metrics=['accuracy'])\n",
        "\n",
        "\n",
        "# Implement early stopping to monitor validation loss and stop training when it stops decreasing\n",
        "early_stopping = EarlyStopping(monitor='val_loss', patience=3, restore_best_weights=True)\n",
        "\n",
        "# Define a learning rate schedule to gradually reduce the learning rate during training\n",
        "def lr_schedule(epoch):\n",
        "    lr = 0.0001\n",
        "    if epoch > 5:\n",
        "        lr *= 0.1\n",
        "    return lr\n",
        "\n",
        "train_steps_per_epoch = 50  # Process 50 batches per epoch for training\n",
        "val_steps_per_epoch = 20    # Process 20 batches per epoch for validation\n",
        "\n",
        "# Modify model training to include both early stopping and learning rate scheduling and store the training history\n",
        "history = model.fit_generator(\n",
        "    train_generator,\n",
        "    steps_per_epoch=train_steps_per_epoch,\n",
        "    epochs=50,\n",
        "    validation_data=val_generator,\n",
        "    validation_steps=val_steps_per_epoch,\n",
        "    callbacks=[early_stopping, LearningRateScheduler(lr_schedule)]\n",
        ")"
      ],
      "metadata": {
        "colab": {
          "base_uri": "https://localhost:8080/"
        },
        "id": "qql_DdU7isTq",
        "outputId": "f8231bad-57da-48c0-d760-f73e1ed5a9b5"
      },
      "execution_count": 11,
      "outputs": [
        {
          "output_type": "stream",
          "name": "stderr",
          "text": [
            "WARNING:absl:`lr` is deprecated in Keras optimizer, please use `learning_rate` or use the legacy optimizer, e.g.,tf.keras.optimizers.legacy.Adam.\n",
            "<ipython-input-11-bb590ccc2876>:21: UserWarning: `Model.fit_generator` is deprecated and will be removed in a future version. Please use `Model.fit`, which supports generators.\n",
            "  history = model.fit_generator(\n"
          ]
        },
        {
          "output_type": "stream",
          "name": "stdout",
          "text": [
            "Epoch 1/50\n",
            "50/50 [==============================] - 770s 15s/step - loss: 0.7608 - accuracy: 0.5322 - val_loss: 0.5662 - val_accuracy: 0.7406 - lr: 1.0000e-04\n",
            "Epoch 2/50\n",
            "50/50 [==============================] - 522s 11s/step - loss: 0.6865 - accuracy: 0.6056 - val_loss: 0.4903 - val_accuracy: 0.7828 - lr: 1.0000e-04\n",
            "Epoch 3/50\n",
            "50/50 [==============================] - 381s 8s/step - loss: 0.6011 - accuracy: 0.6631 - val_loss: 0.4117 - val_accuracy: 0.8781 - lr: 1.0000e-04\n",
            "Epoch 4/50\n",
            "50/50 [==============================] - 302s 6s/step - loss: 0.5553 - accuracy: 0.7006 - val_loss: 0.3948 - val_accuracy: 0.8938 - lr: 1.0000e-04\n",
            "Epoch 5/50\n",
            "50/50 [==============================] - 253s 5s/step - loss: 0.4880 - accuracy: 0.7469 - val_loss: 0.3664 - val_accuracy: 0.8906 - lr: 1.0000e-04\n",
            "Epoch 6/50\n",
            "50/50 [==============================] - 198s 4s/step - loss: 0.4322 - accuracy: 0.7903 - val_loss: 0.3284 - val_accuracy: 0.9234 - lr: 1.0000e-04\n",
            "Epoch 7/50\n",
            "50/50 [==============================] - 187s 4s/step - loss: 0.4359 - accuracy: 0.7944 - val_loss: 0.3208 - val_accuracy: 0.9016 - lr: 1.0000e-05\n",
            "Epoch 8/50\n",
            "50/50 [==============================] - 162s 3s/step - loss: 0.4580 - accuracy: 0.7775 - val_loss: 0.3324 - val_accuracy: 0.9047 - lr: 1.0000e-05\n",
            "Epoch 9/50\n",
            "50/50 [==============================] - 142s 3s/step - loss: 0.4342 - accuracy: 0.7912 - val_loss: 0.3278 - val_accuracy: 0.8984 - lr: 1.0000e-05\n",
            "Epoch 10/50\n",
            "50/50 [==============================] - 139s 3s/step - loss: 0.4325 - accuracy: 0.8012 - val_loss: 0.3329 - val_accuracy: 0.8891 - lr: 1.0000e-05\n"
          ]
        }
      ]
    },
    {
      "cell_type": "code",
      "source": [
        "# Evaluate the model on the test data\n",
        "test_loss, test_accuracy = model.evaluate_generator(test_generator, steps=50)\n",
        "print(\"Test Accuracy: {:.2f}%\".format(test_accuracy * 100))\n"
      ],
      "metadata": {
        "colab": {
          "base_uri": "https://localhost:8080/"
        },
        "id": "tIXaSlhpiwvW",
        "outputId": "db975c2a-91df-4cf9-ecb7-749fa7430afd"
      },
      "execution_count": 12,
      "outputs": [
        {
          "output_type": "stream",
          "name": "stderr",
          "text": [
            "<ipython-input-12-05b2c1c47b18>:2: UserWarning: `Model.evaluate_generator` is deprecated and will be removed in a future version. Please use `Model.evaluate`, which supports generators.\n",
            "  test_loss, test_accuracy = model.evaluate_generator(test_generator, steps=50)\n"
          ]
        },
        {
          "output_type": "stream",
          "name": "stdout",
          "text": [
            "Test Accuracy: 88.88%\n"
          ]
        }
      ]
    },
    {
      "cell_type": "code",
      "source": [
        "import matplotlib.pyplot as plt\n",
        "\n",
        "# Plot training & validation accuracy values\n",
        "plt.plot(history.history['accuracy'])\n",
        "plt.plot(history.history['val_accuracy'])\n",
        "plt.title('Model accuracy')\n",
        "plt.xlabel('Epoch')\n",
        "plt.ylabel('Accuracy')\n",
        "plt.legend(['Train', 'Validation'], loc='upper left')\n",
        "\n",
        "fig1 = plt.gcf()\n",
        "plt.show()\n",
        "plt.draw()\n",
        "fig1.savefig('/content/gdrive/MyDrive/models_deep_learning/model3/model3_accuracy.png')  # Save as PNG file\n"
      ],
      "metadata": {
        "colab": {
          "base_uri": "https://localhost:8080/",
          "height": 490
        },
        "id": "bbBVMXgzi0lI",
        "outputId": "c0a5c2af-f236-4838-8862-e8285c926d95"
      },
      "execution_count": 13,
      "outputs": [
        {
          "output_type": "display_data",
          "data": {
            "text/plain": [
              "<Figure size 640x480 with 1 Axes>"
            ],
            "image/png": "[encoded data removed]"
          },
          "metadata": {}
        },
        {
          "output_type": "display_data",
          "data": {
            "text/plain": [
              "<Figure size 640x480 with 0 Axes>"
            ]
          },
          "metadata": {}
        }
      ]
    },
    {
      "cell_type": "code",
      "source": [
        "# Plot training & validation accuracy values\n",
        "plt.plot(history.history['loss'])\n",
        "plt.plot(history.history['val_loss'])\n",
        "plt.title('Model loss')\n",
        "plt.xlabel('Epoch')\n",
        "plt.ylabel('Accuracy')\n",
        "plt.legend(['Train', 'Validation'], loc='upper left')\n",
        "\n",
        "fig1 = plt.gcf()\n",
        "plt.show()\n",
        "plt.draw()\n",
        "fig1.savefig('/content/gdrive/MyDrive/models_deep_learning/model3/model3_loss.png')  # Save as PNG file"
      ],
      "metadata": {
        "colab": {
          "base_uri": "https://localhost:8080/",
          "height": 490
        },
        "id": "HrUOKo8UIFaw",
        "outputId": "09158f7d-494f-4c75-ed78-79e2e9712902"
      },
      "execution_count": 15,
      "outputs": [
        {
          "output_type": "display_data",
          "data": {
            "text/plain": [
              "<Figure size 640x480 with 1 Axes>"
            ],
            "image/png": "[encoded data removed]"
          },
          "metadata": {}
        },
        {
          "output_type": "display_data",
          "data": {
            "text/plain": [
              "<Figure size 640x480 with 0 Axes>"
            ]
          },
          "metadata": {}
        }
      ]
    },
    {
      "cell_type": "code",
      "source": [
        "import pickle\n",
        "\n",
        "model.save('/content/gdrive/MyDrive/models_deep_learning/model3/model3.h5')\n",
        "\n",
        "# Save the training history using pickle\n",
        "with open('/content/gdrive/MyDrive/models_deep_learning/model3/model3_history.pkl', 'wb') as f:\n",
        "    pickle.dump(history.history, f)\n",
        "\n",
        "\n",
        "\n",
        "# Your evaluation results\n",
        "evaluation_results = {\n",
        "    'accuracy': test_accuracy,\n",
        "    'loss': test_loss}\n",
        "\n",
        "# Save evaluation results using pickle\n",
        "with open('/content/gdrive/MyDrive/models_deep_learning/model3/evaluation_model3_results.pkl', 'wb') as f:\n",
        "    pickle.dump(evaluation_results, f)\n",
        "\n"
      ],
      "metadata": {
        "colab": {
          "base_uri": "https://localhost:8080/"
        },
        "id": "dRm-B7ESQGkk",
        "outputId": "6534758c-f23f-4d93-9c50-27e1f0fa3758"
      },
      "execution_count": 14,
      "outputs": [
        {
          "output_type": "stream",
          "name": "stderr",
          "text": [
            "/usr/local/lib/python3.10/dist-packages/keras/src/engine/training.py:3079: UserWarning: You are saving your model as an HDF5 file via `model.save()`. This file format is considered legacy. We recommend using instead the native Keras format, e.g. `model.save('my_model.keras')`.\n",
            "  saving_api.save_model(\n"
          ]
        }
      ]
    },
    {
      "cell_type": "code",
      "source": [],
      "metadata": {
        "id": "0xnPqPIWNsas"
      },
      "execution_count": null,
      "outputs": []
    }
  ]
}